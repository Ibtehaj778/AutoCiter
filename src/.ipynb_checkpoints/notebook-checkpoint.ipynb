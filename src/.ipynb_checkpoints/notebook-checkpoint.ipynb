{
 "cells": [
  {
   "cell_type": "code",
   "execution_count": 1,
   "id": "379a87a3",
   "metadata": {},
   "outputs": [
    {
     "name": "stdout",
     "output_type": "stream",
     "text": [
      "Requirement already satisfied: PyPDF2 in /Users/ahmadabdullah/anaconda3/lib/python3.11/site-packages (3.0.1)\n",
      "Requirement already satisfied: sentence-transformers in /Users/ahmadabdullah/anaconda3/lib/python3.11/site-packages (2.2.2)\n",
      "Requirement already satisfied: transformers<5.0.0,>=4.6.0 in /Users/ahmadabdullah/anaconda3/lib/python3.11/site-packages (from sentence-transformers) (4.46.2)\n",
      "Requirement already satisfied: tqdm in /Users/ahmadabdullah/anaconda3/lib/python3.11/site-packages (from sentence-transformers) (4.66.1)\n",
      "Requirement already satisfied: torch>=1.6.0 in /Users/ahmadabdullah/anaconda3/lib/python3.11/site-packages (from sentence-transformers) (2.0.1)\n",
      "Requirement already satisfied: torchvision in /Users/ahmadabdullah/anaconda3/lib/python3.11/site-packages (from sentence-transformers) (0.15.2)\n",
      "Requirement already satisfied: numpy in /Users/ahmadabdullah/anaconda3/lib/python3.11/site-packages (from sentence-transformers) (1.26.4)\n",
      "Requirement already satisfied: scikit-learn in /Users/ahmadabdullah/anaconda3/lib/python3.11/site-packages (from sentence-transformers) (1.2.2)\n",
      "Requirement already satisfied: scipy in /Users/ahmadabdullah/anaconda3/lib/python3.11/site-packages (from sentence-transformers) (1.12.0)\n",
      "Requirement already satisfied: nltk in /Users/ahmadabdullah/anaconda3/lib/python3.11/site-packages (from sentence-transformers) (3.8.1)\n",
      "Requirement already satisfied: sentencepiece in /Users/ahmadabdullah/anaconda3/lib/python3.11/site-packages (from sentence-transformers) (0.2.0)\n",
      "Requirement already satisfied: huggingface-hub>=0.4.0 in /Users/ahmadabdullah/anaconda3/lib/python3.11/site-packages (from sentence-transformers) (0.24.7)\n",
      "Requirement already satisfied: filelock in /Users/ahmadabdullah/anaconda3/lib/python3.11/site-packages (from huggingface-hub>=0.4.0->sentence-transformers) (3.13.1)\n",
      "Requirement already satisfied: fsspec>=2023.5.0 in /Users/ahmadabdullah/anaconda3/lib/python3.11/site-packages (from huggingface-hub>=0.4.0->sentence-transformers) (2023.10.0)\n",
      "Requirement already satisfied: packaging>=20.9 in /Users/ahmadabdullah/anaconda3/lib/python3.11/site-packages (from huggingface-hub>=0.4.0->sentence-transformers) (23.2)\n",
      "Requirement already satisfied: pyyaml>=5.1 in /Users/ahmadabdullah/anaconda3/lib/python3.11/site-packages (from huggingface-hub>=0.4.0->sentence-transformers) (6.0.1)\n",
      "Requirement already satisfied: requests in /Users/ahmadabdullah/anaconda3/lib/python3.11/site-packages (from huggingface-hub>=0.4.0->sentence-transformers) (2.31.0)\n",
      "Requirement already satisfied: typing-extensions>=3.7.4.3 in /Users/ahmadabdullah/anaconda3/lib/python3.11/site-packages (from huggingface-hub>=0.4.0->sentence-transformers) (4.11.0)\n",
      "Requirement already satisfied: sympy in /Users/ahmadabdullah/anaconda3/lib/python3.11/site-packages (from torch>=1.6.0->sentence-transformers) (1.12)\n",
      "Requirement already satisfied: networkx in /Users/ahmadabdullah/anaconda3/lib/python3.11/site-packages (from torch>=1.6.0->sentence-transformers) (3.1)\n",
      "Requirement already satisfied: jinja2 in /Users/ahmadabdullah/anaconda3/lib/python3.11/site-packages (from torch>=1.6.0->sentence-transformers) (3.1.3)\n",
      "Requirement already satisfied: regex!=2019.12.17 in /Users/ahmadabdullah/anaconda3/lib/python3.11/site-packages (from transformers<5.0.0,>=4.6.0->sentence-transformers) (2023.10.3)\n",
      "Requirement already satisfied: safetensors>=0.4.1 in /Users/ahmadabdullah/anaconda3/lib/python3.11/site-packages (from transformers<5.0.0,>=4.6.0->sentence-transformers) (0.4.2)\n",
      "Requirement already satisfied: tokenizers<0.21,>=0.20 in /Users/ahmadabdullah/anaconda3/lib/python3.11/site-packages (from transformers<5.0.0,>=4.6.0->sentence-transformers) (0.20.3)\n",
      "Requirement already satisfied: click in /Users/ahmadabdullah/anaconda3/lib/python3.11/site-packages (from nltk->sentence-transformers) (8.1.7)\n",
      "Requirement already satisfied: joblib in /Users/ahmadabdullah/anaconda3/lib/python3.11/site-packages (from nltk->sentence-transformers) (1.2.0)\n",
      "Requirement already satisfied: threadpoolctl>=2.0.0 in /Users/ahmadabdullah/anaconda3/lib/python3.11/site-packages (from scikit-learn->sentence-transformers) (2.2.0)\n",
      "Requirement already satisfied: pillow!=8.3.*,>=5.3.0 in /Users/ahmadabdullah/anaconda3/lib/python3.11/site-packages (from torchvision->sentence-transformers) (10.2.0)\n",
      "Requirement already satisfied: MarkupSafe>=2.0 in /Users/ahmadabdullah/anaconda3/lib/python3.11/site-packages (from jinja2->torch>=1.6.0->sentence-transformers) (2.1.3)\n",
      "Requirement already satisfied: charset-normalizer<4,>=2 in /Users/ahmadabdullah/anaconda3/lib/python3.11/site-packages (from requests->huggingface-hub>=0.4.0->sentence-transformers) (2.0.4)\n",
      "Requirement already satisfied: idna<4,>=2.5 in /Users/ahmadabdullah/anaconda3/lib/python3.11/site-packages (from requests->huggingface-hub>=0.4.0->sentence-transformers) (3.4)\n",
      "Requirement already satisfied: urllib3<3,>=1.21.1 in /Users/ahmadabdullah/anaconda3/lib/python3.11/site-packages (from requests->huggingface-hub>=0.4.0->sentence-transformers) (2.0.7)\n",
      "Requirement already satisfied: certifi>=2017.4.17 in /Users/ahmadabdullah/anaconda3/lib/python3.11/site-packages (from requests->huggingface-hub>=0.4.0->sentence-transformers) (2024.2.2)\n",
      "Requirement already satisfied: mpmath>=0.19 in /Users/ahmadabdullah/anaconda3/lib/python3.11/site-packages (from sympy->torch>=1.6.0->sentence-transformers) (1.3.0)\n"
     ]
    }
   ],
   "source": [
    "!pip install PyPDF2 sentence-transformers"
   ]
  },
  {
   "cell_type": "code",
   "execution_count": 2,
   "id": "58898bdf",
   "metadata": {},
   "outputs": [
    {
     "name": "stderr",
     "output_type": "stream",
     "text": [
      "/Users/ahmadabdullah/anaconda3/lib/python3.11/site-packages/huggingface_hub/utils/_deprecation.py:131: FutureWarning: 'cached_download' (from 'huggingface_hub.file_download') is deprecated and will be removed from version '0.26'. Use `hf_hub_download` instead.\n",
      "  warnings.warn(warning_message, FutureWarning)\n"
     ]
    },
    {
     "data": {
      "application/vnd.jupyter.widget-view+json": {
       "model_id": "aab7efe9583e4ce29adb785ebba1ca5d",
       "version_major": 2,
       "version_minor": 0
      },
      "text/plain": [
       ".gitattributes:   0%|          | 0.00/1.23k [00:00<?, ?B/s]"
      ]
     },
     "metadata": {},
     "output_type": "display_data"
    },
    {
     "data": {
      "application/vnd.jupyter.widget-view+json": {
       "model_id": "2b80d21bd7fe402281083d3c7229b8a5",
       "version_major": 2,
       "version_minor": 0
      },
      "text/plain": [
       "1_Pooling/config.json:   0%|          | 0.00/190 [00:00<?, ?B/s]"
      ]
     },
     "metadata": {},
     "output_type": "display_data"
    },
    {
     "data": {
      "application/vnd.jupyter.widget-view+json": {
       "model_id": "72cd169393d046fcae43463bd612e7fc",
       "version_major": 2,
       "version_minor": 0
      },
      "text/plain": [
       "README.md:   0%|          | 0.00/10.7k [00:00<?, ?B/s]"
      ]
     },
     "metadata": {},
     "output_type": "display_data"
    },
    {
     "data": {
      "application/vnd.jupyter.widget-view+json": {
       "model_id": "b7dc3f74e0244bb794ed89cd27eb5697",
       "version_major": 2,
       "version_minor": 0
      },
      "text/plain": [
       "config.json:   0%|          | 0.00/612 [00:00<?, ?B/s]"
      ]
     },
     "metadata": {},
     "output_type": "display_data"
    },
    {
     "data": {
      "application/vnd.jupyter.widget-view+json": {
       "model_id": "bded49ae56d94f4e9af2a582fb9b4da6",
       "version_major": 2,
       "version_minor": 0
      },
      "text/plain": [
       "config_sentence_transformers.json:   0%|          | 0.00/116 [00:00<?, ?B/s]"
      ]
     },
     "metadata": {},
     "output_type": "display_data"
    },
    {
     "data": {
      "application/vnd.jupyter.widget-view+json": {
       "model_id": "ba72dcdec21d4f32ab877d09fc159ff9",
       "version_major": 2,
       "version_minor": 0
      },
      "text/plain": [
       "data_config.json:   0%|          | 0.00/39.3k [00:00<?, ?B/s]"
      ]
     },
     "metadata": {},
     "output_type": "display_data"
    },
    {
     "data": {
      "application/vnd.jupyter.widget-view+json": {
       "model_id": "bb3567417eac420fa049c347619484c6",
       "version_major": 2,
       "version_minor": 0
      },
      "text/plain": [
       "model.safetensors:   0%|          | 0.00/90.9M [00:00<?, ?B/s]"
      ]
     },
     "metadata": {},
     "output_type": "display_data"
    },
    {
     "data": {
      "application/vnd.jupyter.widget-view+json": {
       "model_id": "0015bfaade054a698698b9e43a364d7f",
       "version_major": 2,
       "version_minor": 0
      },
      "text/plain": [
       "model.onnx:   0%|          | 0.00/90.4M [00:00<?, ?B/s]"
      ]
     },
     "metadata": {},
     "output_type": "display_data"
    },
    {
     "data": {
      "application/vnd.jupyter.widget-view+json": {
       "model_id": "1c927998fae1413a847c61c9946878dc",
       "version_major": 2,
       "version_minor": 0
      },
      "text/plain": [
       "model_O1.onnx:   0%|          | 0.00/90.4M [00:00<?, ?B/s]"
      ]
     },
     "metadata": {},
     "output_type": "display_data"
    },
    {
     "data": {
      "application/vnd.jupyter.widget-view+json": {
       "model_id": "b98b85dab02b4bd191c3d36736f292a7",
       "version_major": 2,
       "version_minor": 0
      },
      "text/plain": [
       "model_O2.onnx:   0%|          | 0.00/90.3M [00:00<?, ?B/s]"
      ]
     },
     "metadata": {},
     "output_type": "display_data"
    },
    {
     "data": {
      "application/vnd.jupyter.widget-view+json": {
       "model_id": "719d1dae0aa14e97a5642a519a630ff7",
       "version_major": 2,
       "version_minor": 0
      },
      "text/plain": [
       "model_O3.onnx:   0%|          | 0.00/90.3M [00:00<?, ?B/s]"
      ]
     },
     "metadata": {},
     "output_type": "display_data"
    },
    {
     "data": {
      "application/vnd.jupyter.widget-view+json": {
       "model_id": "2c8b6cfb7a3d45ceb9cddda519d031ae",
       "version_major": 2,
       "version_minor": 0
      },
      "text/plain": [
       "model_O4.onnx:   0%|          | 0.00/45.2M [00:00<?, ?B/s]"
      ]
     },
     "metadata": {},
     "output_type": "display_data"
    },
    {
     "data": {
      "application/vnd.jupyter.widget-view+json": {
       "model_id": "be58b3bd8834470abb094f0d8a10ed51",
       "version_major": 2,
       "version_minor": 0
      },
      "text/plain": [
       "model_qint8_arm64.onnx:   0%|          | 0.00/23.0M [00:00<?, ?B/s]"
      ]
     },
     "metadata": {},
     "output_type": "display_data"
    },
    {
     "data": {
      "application/vnd.jupyter.widget-view+json": {
       "model_id": "af22b2a83da147ffa6052eb4cc5441a8",
       "version_major": 2,
       "version_minor": 0
      },
      "text/plain": [
       "model_qint8_avx512.onnx:   0%|          | 0.00/23.0M [00:00<?, ?B/s]"
      ]
     },
     "metadata": {},
     "output_type": "display_data"
    },
    {
     "data": {
      "application/vnd.jupyter.widget-view+json": {
       "model_id": "99fc5ebcaba94a2d8b1dfb9fdbd89d30",
       "version_major": 2,
       "version_minor": 0
      },
      "text/plain": [
       "model_qint8_avx512_vnni.onnx:   0%|          | 0.00/23.0M [00:00<?, ?B/s]"
      ]
     },
     "metadata": {},
     "output_type": "display_data"
    },
    {
     "data": {
      "application/vnd.jupyter.widget-view+json": {
       "model_id": "9f3b6865115f4079b5f5a6db75e54626",
       "version_major": 2,
       "version_minor": 0
      },
      "text/plain": [
       "model_quint8_avx2.onnx:   0%|          | 0.00/23.0M [00:00<?, ?B/s]"
      ]
     },
     "metadata": {},
     "output_type": "display_data"
    },
    {
     "data": {
      "application/vnd.jupyter.widget-view+json": {
       "model_id": "e495bf2391da43369c4a08edc157970a",
       "version_major": 2,
       "version_minor": 0
      },
      "text/plain": [
       "openvino_model.bin:   0%|          | 0.00/90.3M [00:00<?, ?B/s]"
      ]
     },
     "metadata": {},
     "output_type": "display_data"
    },
    {
     "data": {
      "application/vnd.jupyter.widget-view+json": {
       "model_id": "ae87febbcb534f0ba8aeb0d439783a12",
       "version_major": 2,
       "version_minor": 0
      },
      "text/plain": [
       "openvino/openvino_model.xml:   0%|          | 0.00/211k [00:00<?, ?B/s]"
      ]
     },
     "metadata": {},
     "output_type": "display_data"
    },
    {
     "data": {
      "application/vnd.jupyter.widget-view+json": {
       "model_id": "694dc7ee4b5b41f6bca21b0c1e6ecbc6",
       "version_major": 2,
       "version_minor": 0
      },
      "text/plain": [
       "openvino_model_qint8_quantized.bin:   0%|          | 0.00/22.9M [00:00<?, ?B/s]"
      ]
     },
     "metadata": {},
     "output_type": "display_data"
    },
    {
     "data": {
      "application/vnd.jupyter.widget-view+json": {
       "model_id": "9a3e4b91e03e4099aa5319439f24d0d8",
       "version_major": 2,
       "version_minor": 0
      },
      "text/plain": [
       "(…)nvino/openvino_model_qint8_quantized.xml:   0%|          | 0.00/368k [00:00<?, ?B/s]"
      ]
     },
     "metadata": {},
     "output_type": "display_data"
    },
    {
     "data": {
      "application/vnd.jupyter.widget-view+json": {
       "model_id": "af506385e3384c9ca086bbd7dd42a3fd",
       "version_major": 2,
       "version_minor": 0
      },
      "text/plain": [
       "pytorch_model.bin:   0%|          | 0.00/90.9M [00:00<?, ?B/s]"
      ]
     },
     "metadata": {},
     "output_type": "display_data"
    },
    {
     "data": {
      "application/vnd.jupyter.widget-view+json": {
       "model_id": "24a44cf8ce0941879b7d00aeb3ffc2a0",
       "version_major": 2,
       "version_minor": 0
      },
      "text/plain": [
       "sentence_bert_config.json:   0%|          | 0.00/53.0 [00:00<?, ?B/s]"
      ]
     },
     "metadata": {},
     "output_type": "display_data"
    },
    {
     "data": {
      "application/vnd.jupyter.widget-view+json": {
       "model_id": "41dd8cfe7970465eb91d3a1215642244",
       "version_major": 2,
       "version_minor": 0
      },
      "text/plain": [
       "special_tokens_map.json:   0%|          | 0.00/112 [00:00<?, ?B/s]"
      ]
     },
     "metadata": {},
     "output_type": "display_data"
    },
    {
     "data": {
      "application/vnd.jupyter.widget-view+json": {
       "model_id": "5e461cc03fbb4153aaae31f8ae3b9232",
       "version_major": 2,
       "version_minor": 0
      },
      "text/plain": [
       "tokenizer.json:   0%|          | 0.00/466k [00:00<?, ?B/s]"
      ]
     },
     "metadata": {},
     "output_type": "display_data"
    },
    {
     "data": {
      "application/vnd.jupyter.widget-view+json": {
       "model_id": "170ae434004340cd9ec284b09ba2978b",
       "version_major": 2,
       "version_minor": 0
      },
      "text/plain": [
       "tokenizer_config.json:   0%|          | 0.00/350 [00:00<?, ?B/s]"
      ]
     },
     "metadata": {},
     "output_type": "display_data"
    },
    {
     "data": {
      "application/vnd.jupyter.widget-view+json": {
       "model_id": "54192316390c429cae1a8b3ab7a1962a",
       "version_major": 2,
       "version_minor": 0
      },
      "text/plain": [
       "train_script.py:   0%|          | 0.00/13.2k [00:00<?, ?B/s]"
      ]
     },
     "metadata": {},
     "output_type": "display_data"
    },
    {
     "data": {
      "application/vnd.jupyter.widget-view+json": {
       "model_id": "14dcacb99ffe403d801029f14c48c2f7",
       "version_major": 2,
       "version_minor": 0
      },
      "text/plain": [
       "vocab.txt:   0%|          | 0.00/232k [00:00<?, ?B/s]"
      ]
     },
     "metadata": {},
     "output_type": "display_data"
    },
    {
     "data": {
      "application/vnd.jupyter.widget-view+json": {
       "model_id": "c59f7337b60242e8afe31d87934ba701",
       "version_major": 2,
       "version_minor": 0
      },
      "text/plain": [
       "modules.json:   0%|          | 0.00/349 [00:00<?, ?B/s]"
      ]
     },
     "metadata": {},
     "output_type": "display_data"
    },
    {
     "name": "stderr",
     "output_type": "stream",
     "text": [
      "/Users/ahmadabdullah/anaconda3/lib/python3.11/site-packages/torchvision/datapoints/__init__.py:12: UserWarning: The torchvision.datapoints and torchvision.transforms.v2 namespaces are still Beta. While we do not expect major breaking changes, some APIs may still change according to user feedback. Please submit any feedback you may have in this issue: https://github.com/pytorch/vision/issues/6753, and you can also check out https://github.com/pytorch/vision/issues/7319 to learn more about the APIs that we suspect might involve future changes. You can silence this warning by calling torchvision.disable_beta_transforms_warning().\n",
      "  warnings.warn(_BETA_TRANSFORMS_WARNING)\n",
      "/Users/ahmadabdullah/anaconda3/lib/python3.11/site-packages/torchvision/transforms/v2/__init__.py:54: UserWarning: The torchvision.datapoints and torchvision.transforms.v2 namespaces are still Beta. While we do not expect major breaking changes, some APIs may still change according to user feedback. Please submit any feedback you may have in this issue: https://github.com/pytorch/vision/issues/6753, and you can also check out https://github.com/pytorch/vision/issues/7319 to learn more about the APIs that we suspect might involve future changes. You can silence this warning by calling torchvision.disable_beta_transforms_warning().\n",
      "  warnings.warn(_BETA_TRANSFORMS_WARNING)\n"
     ]
    }
   ],
   "source": [
    "import PyPDF2\n",
    "import nltk\n",
    "from sentence_transformers import SentenceTransformer, util\n",
    "import re\n",
    "from tkinter import Tk, Button, Entry, Label, filedialog, Text, Scrollbar, Frame\n",
    "from tkinter.ttk import Progressbar\n",
    "import torch\n",
    "import pandas as pd\n",
    "from tqdm import tqdm\n",
    "import os\n",
    "\n",
    "device = torch.device(\"mps\" if torch.has_mps else \"cpu\")\n",
    "model = SentenceTransformer('all-MiniLM-L6-v2').to(device)"
   ]
  },
  {
   "cell_type": "code",
   "execution_count": 3,
   "id": "6d630056",
   "metadata": {
    "scrolled": true
   },
   "outputs": [],
   "source": [
    "def read_pdf_files(pdf_paths):\n",
    "    pdf_text_data = {}\n",
    "    for pdf_path in pdf_paths:\n",
    "        lines = []\n",
    "        with open(pdf_path, 'rb') as file:\n",
    "            pdf_reader = PyPDF2.PdfReader(file)\n",
    "            for page in pdf_reader.pages:\n",
    "                page_text = page.extract_text()\n",
    "                if page_text:\n",
    "                    cleaned_text = re.sub(r'[^a-zA-Z0-9.,\\s]\\n', '', page_text)\n",
    "                    lines += [line.strip() for line in re.split(r'[.,]', cleaned_text) if line.strip()]\n",
    "        pdf_text_data[pdf_path] = lines\n",
    "    return pdf_text_data\n",
    "\n",
    "def find_citation(query_line, pdf_text_data, top_k=2):\n",
    "    sub_queries = [sub.strip() for sub in query_line.split('. ') if sub.strip()]\n",
    "    all_top_matches = []\n",
    "\n",
    "    for sub_query in sub_queries:\n",
    "        query_embedding = model.encode(sub_query, convert_to_tensor=True).to(device)\n",
    "        sub_query_matches = []\n",
    "\n",
    "        for pdf_path, lines in tqdm(pdf_text_data.items()):\n",
    "            line_embeddings = model.encode(lines, convert_to_tensor=True).to(device)\n",
    "            similarity_scores = util.cos_sim(query_embedding, line_embeddings)[0]\n",
    "            \n",
    "            top_indices = similarity_scores.topk(k=top_k).indices.tolist()\n",
    "            \n",
    "            for idx in top_indices:\n",
    "                score = similarity_scores[idx].item()\n",
    "                matched_line = lines[idx]\n",
    "                sub_query_matches.append((score, pdf_path, matched_line, sub_query))\n",
    "        \n",
    "        sub_query_matches = sorted(sub_query_matches, key=lambda x: x[0], reverse=True)[:top_k]\n",
    "        all_top_matches.extend(sub_query_matches)\n",
    "    \n",
    "    all_top_matches_df = pd.DataFrame(all_top_matches, columns=['Similarity', 'Path', 'Line', 'Sub_query'])\n",
    "    \n",
    "    return all_top_matches_df"
   ]
  },
  {
   "cell_type": "code",
   "execution_count": 4,
   "id": "194a756b",
   "metadata": {},
   "outputs": [],
   "source": [
    "file_paths = []\n",
    "for file_name in os.listdir('../papers/'):\n",
    "    if file_name.endswith('.pdf'):\n",
    "        file_paths.append('../papers/' + file_name)\n",
    "\n",
    "file_data = read_pdf_files(file_paths)"
   ]
  },
  {
   "cell_type": "code",
   "execution_count": 5,
   "id": "254b6a19",
   "metadata": {},
   "outputs": [
    {
     "name": "stderr",
     "output_type": "stream",
     "text": [
      "100%|█████████████████████████████████████████████| 9/9 [00:12<00:00,  1.40s/it]\n",
      "100%|█████████████████████████████████████████████| 9/9 [00:12<00:00,  1.34s/it]\n"
     ]
    },
    {
     "data": {
      "text/html": [
       "<div>\n",
       "<style scoped>\n",
       "    .dataframe tbody tr th:only-of-type {\n",
       "        vertical-align: middle;\n",
       "    }\n",
       "\n",
       "    .dataframe tbody tr th {\n",
       "        vertical-align: top;\n",
       "    }\n",
       "\n",
       "    .dataframe thead th {\n",
       "        text-align: right;\n",
       "    }\n",
       "</style>\n",
       "<table border=\"1\" class=\"dataframe\">\n",
       "  <thead>\n",
       "    <tr style=\"text-align: right;\">\n",
       "      <th></th>\n",
       "      <th>Similarity</th>\n",
       "      <th>Path</th>\n",
       "      <th>Line</th>\n",
       "      <th>Sub_query</th>\n",
       "    </tr>\n",
       "  </thead>\n",
       "  <tbody>\n",
       "    <tr>\n",
       "      <th>0</th>\n",
       "      <td>0.874032</td>\n",
       "      <td>../papers/[5] ibto.pdf</td>\n",
       "      <td>Retracted  papers  were  mainly  written  by  ...</td>\n",
       "      <td>The research also showed that retracted papers...</td>\n",
       "    </tr>\n",
       "    <tr>\n",
       "      <th>1</th>\n",
       "      <td>0.699134</td>\n",
       "      <td>../papers/[5] ibto.pdf</td>\n",
       "      <td>000 papers  published</td>\n",
       "      <td>It\\nalso showed that 840 of the papers were or...</td>\n",
       "    </tr>\n",
       "  </tbody>\n",
       "</table>\n",
       "</div>"
      ],
      "text/plain": [
       "   Similarity                    Path  \\\n",
       "0    0.874032  ../papers/[5] ibto.pdf   \n",
       "1    0.699134  ../papers/[5] ibto.pdf   \n",
       "\n",
       "                                                Line  \\\n",
       "0  Retracted  papers  were  mainly  written  by  ...   \n",
       "1                              000 papers  published   \n",
       "\n",
       "                                           Sub_query  \n",
       "0  The research also showed that retracted papers...  \n",
       "1  It\\nalso showed that 840 of the papers were or...  "
      ]
     },
     "execution_count": 5,
     "metadata": {},
     "output_type": "execute_result"
    }
   ],
   "source": [
    "## Ibtehaj Literature Review\n",
    "\n",
    "query = '''The research also showed that retracted papers were mainly written by 2-4\n",
    "authors (38.7%), with single authors present in only 5% of retracted papers. It\n",
    "also showed that 840 of the papers were original research papers, followed by\n",
    "150 review papers.'''\n",
    "find_citation(query ,file_data, top_k=1)"
   ]
  },
  {
   "cell_type": "code",
   "execution_count": 6,
   "id": "9f6e6854",
   "metadata": {},
   "outputs": [
    {
     "name": "stderr",
     "output_type": "stream",
     "text": [
      "100%|█████████████████████████████████████████████| 9/9 [00:12<00:00,  1.37s/it]\n"
     ]
    },
    {
     "data": {
      "text/html": [
       "<div>\n",
       "<style scoped>\n",
       "    .dataframe tbody tr th:only-of-type {\n",
       "        vertical-align: middle;\n",
       "    }\n",
       "\n",
       "    .dataframe tbody tr th {\n",
       "        vertical-align: top;\n",
       "    }\n",
       "\n",
       "    .dataframe thead th {\n",
       "        text-align: right;\n",
       "    }\n",
       "</style>\n",
       "<table border=\"1\" class=\"dataframe\">\n",
       "  <thead>\n",
       "    <tr style=\"text-align: right;\">\n",
       "      <th></th>\n",
       "      <th>Similarity</th>\n",
       "      <th>Path</th>\n",
       "      <th>Line</th>\n",
       "      <th>Sub_query</th>\n",
       "    </tr>\n",
       "  </thead>\n",
       "  <tbody>\n",
       "    <tr>\n",
       "      <th>0</th>\n",
       "      <td>0.694224</td>\n",
       "      <td>../papers/[4] hocane.pdf</td>\n",
       "      <td>which may be an indicator of self-plagiarism</td>\n",
       "      <td>They attempt to untan- gle various faces of pl...</td>\n",
       "    </tr>\n",
       "  </tbody>\n",
       "</table>\n",
       "</div>"
      ],
      "text/plain": [
       "   Similarity                      Path  \\\n",
       "0    0.694224  ../papers/[4] hocane.pdf   \n",
       "\n",
       "                                           Line  \\\n",
       "0  which may be an indicator of self-plagiarism   \n",
       "\n",
       "                                           Sub_query  \n",
       "0  They attempt to untan- gle various faces of pl...  "
      ]
     },
     "execution_count": 6,
     "metadata": {},
     "output_type": "execute_result"
    }
   ],
   "source": [
    "## Hocane Literature Review\n",
    "\n",
    "query = 'They attempt to untan- gle various faces of plagiarism—presenting direct copying, self-plagiarism, and subtle forms like mosaic plagiarism—because each brings its own set of ethical concerns and consequences.'\n",
    "find_citation(query ,file_data, top_k=1)"
   ]
  },
  {
   "cell_type": "code",
   "execution_count": 7,
   "id": "417d623b",
   "metadata": {},
   "outputs": [
    {
     "name": "stderr",
     "output_type": "stream",
     "text": [
      "100%|█████████████████████████████████████████████| 9/9 [00:12<00:00,  1.39s/it]\n"
     ]
    },
    {
     "data": {
      "text/html": [
       "<div>\n",
       "<style scoped>\n",
       "    .dataframe tbody tr th:only-of-type {\n",
       "        vertical-align: middle;\n",
       "    }\n",
       "\n",
       "    .dataframe tbody tr th {\n",
       "        vertical-align: top;\n",
       "    }\n",
       "\n",
       "    .dataframe thead th {\n",
       "        text-align: right;\n",
       "    }\n",
       "</style>\n",
       "<table border=\"1\" class=\"dataframe\">\n",
       "  <thead>\n",
       "    <tr style=\"text-align: right;\">\n",
       "      <th></th>\n",
       "      <th>Similarity</th>\n",
       "      <th>Path</th>\n",
       "      <th>Line</th>\n",
       "      <th>Sub_query</th>\n",
       "    </tr>\n",
       "  </thead>\n",
       "  <tbody>\n",
       "    <tr>\n",
       "      <th>0</th>\n",
       "      <td>0.768673</td>\n",
       "      <td>../papers/[4] hocane.pdf</td>\n",
       "      <td>8% (89/213) were retracted for plagiarism</td>\n",
       "      <td>Ex- ploring 1082 papers from 2013 to 2016, the...</td>\n",
       "    </tr>\n",
       "    <tr>\n",
       "      <th>1</th>\n",
       "      <td>0.765789</td>\n",
       "      <td>../papers/[7] tams.pdf</td>\n",
       "      <td>Retractions in the scientiﬁc literatureis the ...</td>\n",
       "      <td>Ex- ploring 1082 papers from 2013 to 2016, the...</td>\n",
       "    </tr>\n",
       "  </tbody>\n",
       "</table>\n",
       "</div>"
      ],
      "text/plain": [
       "   Similarity                      Path  \\\n",
       "0    0.768673  ../papers/[4] hocane.pdf   \n",
       "1    0.765789    ../papers/[7] tams.pdf   \n",
       "\n",
       "                                                Line  \\\n",
       "0          8% (89/213) were retracted for plagiarism   \n",
       "1  Retractions in the scientiﬁc literatureis the ...   \n",
       "\n",
       "                                           Sub_query  \n",
       "0  Ex- ploring 1082 papers from 2013 to 2016, the...  \n",
       "1  Ex- ploring 1082 papers from 2013 to 2016, the...  "
      ]
     },
     "execution_count": 7,
     "metadata": {},
     "output_type": "execute_result"
    }
   ],
   "source": [
    "## Hocane + Tahmooras Combined Literature Review\n",
    "\n",
    "query = 'Ex- ploring 1082 papers from 2013 to 2016, the authors found that misconduct, such as plagiarism, false data manipulation, and fake peer review processes, resulted in 79% of papers being retracted, with plagiarism as the leading cause (32.7%), followed closely by data manipulation (32.5%)'\n",
    "find_citation(query ,file_data, top_k=2)"
   ]
  },
  {
   "cell_type": "code",
   "execution_count": 8,
   "id": "927e1146",
   "metadata": {},
   "outputs": [
    {
     "name": "stderr",
     "output_type": "stream",
     "text": [
      "100%|█████████████████████████████████████████████| 9/9 [00:12<00:00,  1.38s/it]\n"
     ]
    },
    {
     "data": {
      "text/html": [
       "<div>\n",
       "<style scoped>\n",
       "    .dataframe tbody tr th:only-of-type {\n",
       "        vertical-align: middle;\n",
       "    }\n",
       "\n",
       "    .dataframe tbody tr th {\n",
       "        vertical-align: top;\n",
       "    }\n",
       "\n",
       "    .dataframe thead th {\n",
       "        text-align: right;\n",
       "    }\n",
       "</style>\n",
       "<table border=\"1\" class=\"dataframe\">\n",
       "  <thead>\n",
       "    <tr style=\"text-align: right;\">\n",
       "      <th></th>\n",
       "      <th>Similarity</th>\n",
       "      <th>Path</th>\n",
       "      <th>Line</th>\n",
       "      <th>Sub_query</th>\n",
       "    </tr>\n",
       "  </thead>\n",
       "  <tbody>\n",
       "    <tr>\n",
       "      <th>0</th>\n",
       "      <td>0.701211</td>\n",
       "      <td>../papers/[9] ahmed.pdf</td>\n",
       "      <td>variations in the amount of external and inter...</td>\n",
       "      <td>This pressure is often described as the ”publi...</td>\n",
       "    </tr>\n",
       "    <tr>\n",
       "      <th>1</th>\n",
       "      <td>0.620849</td>\n",
       "      <td>../papers/[9] ahmed.pdf</td>\n",
       "      <td>Pressure to publish may also affect research i...</td>\n",
       "      <td>This pressure is often described as the ”publi...</td>\n",
       "    </tr>\n",
       "  </tbody>\n",
       "</table>\n",
       "</div>"
      ],
      "text/plain": [
       "   Similarity                     Path  \\\n",
       "0    0.701211  ../papers/[9] ahmed.pdf   \n",
       "1    0.620849  ../papers/[9] ahmed.pdf   \n",
       "\n",
       "                                                Line  \\\n",
       "0  variations in the amount of external and inter...   \n",
       "1  Pressure to publish may also affect research i...   \n",
       "\n",
       "                                           Sub_query  \n",
       "0  This pressure is often described as the ”publi...  \n",
       "1  This pressure is often described as the ”publi...  "
      ]
     },
     "execution_count": 8,
     "metadata": {},
     "output_type": "execute_result"
    }
   ],
   "source": [
    "## Hocane + Tahmooras Combined Literature Review\n",
    "\n",
    "query = '''This pressure is often described as the ”publish or perish” culture, where\n",
    "career advancement is closely tied to publication records, to the point that some\n",
    "researchers may compromise quality for quantity'''\n",
    "find_citation(query ,file_data, top_k=2)"
   ]
  },
  {
   "cell_type": "code",
   "execution_count": 10,
   "id": "42209353",
   "metadata": {},
   "outputs": [
    {
     "name": "stderr",
     "output_type": "stream",
     "text": [
      "100%|█████████████████████████████████████████████| 9/9 [00:12<00:00,  1.37s/it]\n"
     ]
    },
    {
     "data": {
      "text/html": [
       "<div>\n",
       "<style scoped>\n",
       "    .dataframe tbody tr th:only-of-type {\n",
       "        vertical-align: middle;\n",
       "    }\n",
       "\n",
       "    .dataframe tbody tr th {\n",
       "        vertical-align: top;\n",
       "    }\n",
       "\n",
       "    .dataframe thead th {\n",
       "        text-align: right;\n",
       "    }\n",
       "</style>\n",
       "<table border=\"1\" class=\"dataframe\">\n",
       "  <thead>\n",
       "    <tr style=\"text-align: right;\">\n",
       "      <th></th>\n",
       "      <th>Similarity</th>\n",
       "      <th>Path</th>\n",
       "      <th>Line</th>\n",
       "      <th>Sub_query</th>\n",
       "    </tr>\n",
       "  </thead>\n",
       "  <tbody>\n",
       "    <tr>\n",
       "      <th>0</th>\n",
       "      <td>0.796851</td>\n",
       "      <td>../papers/[1] burhan1.pdf</td>\n",
       "      <td>with scientific knowledge Fig 1  | Number of a...</td>\n",
       "      <td>Using the Medline database, they analyzed over...</td>\n",
       "    </tr>\n",
       "    <tr>\n",
       "      <th>1</th>\n",
       "      <td>0.789266</td>\n",
       "      <td>../papers/[1] burhan1.pdf</td>\n",
       "      <td>We used the Medline database to calcu late bot...</td>\n",
       "      <td>Using the Medline database, they analyzed over...</td>\n",
       "    </tr>\n",
       "    <tr>\n",
       "      <th>2</th>\n",
       "      <td>0.786642</td>\n",
       "      <td>../papers/[4] hocane.pdf</td>\n",
       "      <td>A major strength of this study was that retrac...</td>\n",
       "      <td>Using the Medline database, they analyzed over...</td>\n",
       "    </tr>\n",
       "  </tbody>\n",
       "</table>\n",
       "</div>"
      ],
      "text/plain": [
       "   Similarity                       Path  \\\n",
       "0    0.796851  ../papers/[1] burhan1.pdf   \n",
       "1    0.789266  ../papers/[1] burhan1.pdf   \n",
       "2    0.786642   ../papers/[4] hocane.pdf   \n",
       "\n",
       "                                                Line  \\\n",
       "0  with scientific knowledge Fig 1  | Number of a...   \n",
       "1  We used the Medline database to calcu late bot...   \n",
       "2  A major strength of this study was that retrac...   \n",
       "\n",
       "                                           Sub_query  \n",
       "0  Using the Medline database, they analyzed over...  \n",
       "1  Using the Medline database, they analyzed over...  \n",
       "2  Using the Medline database, they analyzed over...  "
      ]
     },
     "execution_count": 10,
     "metadata": {},
     "output_type": "execute_result"
    }
   ],
   "source": [
    "## Burhan Combined Literature Review\n",
    "\n",
    "query = '''Using the Medline database, they analyzed over 17 million published scien\u0002tific studies, calculating the percentage of retractions by dividing the number of\n",
    "retracted articles by the total number of published papers each year'''\n",
    "find_citation(query ,file_data, top_k=3)"
   ]
  },
  {
   "cell_type": "code",
   "execution_count": 11,
   "id": "5271a2ae",
   "metadata": {},
   "outputs": [
    {
     "name": "stderr",
     "output_type": "stream",
     "text": [
      "100%|█████████████████████████████████████████████| 9/9 [00:12<00:00,  1.38s/it]\n",
      "100%|█████████████████████████████████████████████| 9/9 [00:12<00:00,  1.35s/it]\n"
     ]
    },
    {
     "data": {
      "text/html": [
       "<div>\n",
       "<style scoped>\n",
       "    .dataframe tbody tr th:only-of-type {\n",
       "        vertical-align: middle;\n",
       "    }\n",
       "\n",
       "    .dataframe tbody tr th {\n",
       "        vertical-align: top;\n",
       "    }\n",
       "\n",
       "    .dataframe thead th {\n",
       "        text-align: right;\n",
       "    }\n",
       "</style>\n",
       "<table border=\"1\" class=\"dataframe\">\n",
       "  <thead>\n",
       "    <tr style=\"text-align: right;\">\n",
       "      <th></th>\n",
       "      <th>Similarity</th>\n",
       "      <th>Path</th>\n",
       "      <th>Line</th>\n",
       "      <th>Sub_query</th>\n",
       "    </tr>\n",
       "  </thead>\n",
       "  <tbody>\n",
       "    <tr>\n",
       "      <th>0</th>\n",
       "      <td>0.675572</td>\n",
       "      <td>../papers/[6] sharj.pdf</td>\n",
       "      <td>The retraction\\npatterns varied across differe...</td>\n",
       "      <td>The study found that most retractions occurred...</td>\n",
       "    </tr>\n",
       "    <tr>\n",
       "      <th>1</th>\n",
       "      <td>0.675367</td>\n",
       "      <td>../papers/[6] sharj.pdf</td>\n",
       "      <td>the retraction activityindex for USA was 1</td>\n",
       "      <td>The study found that most retractions occurred...</td>\n",
       "    </tr>\n",
       "    <tr>\n",
       "      <th>2</th>\n",
       "      <td>0.631180</td>\n",
       "      <td>../papers/[2] burhan2.pdf</td>\n",
       "      <td>348 journals with a known impact factor (IF)</td>\n",
       "      <td>Garfield’s Impact\\nFactor (IF) was employed to...</td>\n",
       "    </tr>\n",
       "    <tr>\n",
       "      <th>3</th>\n",
       "      <td>0.595812</td>\n",
       "      <td>../papers/[2] burhan2.pdf</td>\n",
       "      <td>(A) Higher- and lower-impact factor (IF) journ...</td>\n",
       "      <td>Garfield’s Impact\\nFactor (IF) was employed to...</td>\n",
       "    </tr>\n",
       "  </tbody>\n",
       "</table>\n",
       "</div>"
      ],
      "text/plain": [
       "   Similarity                       Path  \\\n",
       "0    0.675572    ../papers/[6] sharj.pdf   \n",
       "1    0.675367    ../papers/[6] sharj.pdf   \n",
       "2    0.631180  ../papers/[2] burhan2.pdf   \n",
       "3    0.595812  ../papers/[2] burhan2.pdf   \n",
       "\n",
       "                                                Line  \\\n",
       "0  The retraction\\npatterns varied across differe...   \n",
       "1         the retraction activityindex for USA was 1   \n",
       "2       348 journals with a known impact factor (IF)   \n",
       "3  (A) Higher- and lower-impact factor (IF) journ...   \n",
       "\n",
       "                                           Sub_query  \n",
       "0  The study found that most retractions occurred...  \n",
       "1  The study found that most retractions occurred...  \n",
       "2  Garfield’s Impact\\nFactor (IF) was employed to...  \n",
       "3  Garfield’s Impact\\nFactor (IF) was employed to...  "
      ]
     },
     "execution_count": 11,
     "metadata": {},
     "output_type": "execute_result"
    }
   ],
   "source": [
    "## Sharjeel Combined Literature Review\n",
    "\n",
    "query = '''The study found that most retractions occurred in the\n",
    "USA, while in terms of fraud retractions, India and Italy topped the list [6].\n",
    "Using the Activity Index (AI), the author determined that the MULT (multidisciplinary sciences) field ranked highest in retractions. Garfield’s Impact\n",
    "Factor (IF) was employed to gauge journal influence'''\n",
    "\n",
    "find_citation(query ,file_data, top_k=2)"
   ]
  },
  {
   "cell_type": "code",
   "execution_count": 12,
   "id": "842469dc",
   "metadata": {},
   "outputs": [
    {
     "name": "stderr",
     "output_type": "stream",
     "text": [
      "100%|█████████████████████████████████████████████| 9/9 [00:12<00:00,  1.37s/it]\n",
      "100%|█████████████████████████████████████████████| 9/9 [00:12<00:00,  1.36s/it]\n"
     ]
    },
    {
     "data": {
      "text/html": [
       "<div>\n",
       "<style scoped>\n",
       "    .dataframe tbody tr th:only-of-type {\n",
       "        vertical-align: middle;\n",
       "    }\n",
       "\n",
       "    .dataframe tbody tr th {\n",
       "        vertical-align: top;\n",
       "    }\n",
       "\n",
       "    .dataframe thead th {\n",
       "        text-align: right;\n",
       "    }\n",
       "</style>\n",
       "<table border=\"1\" class=\"dataframe\">\n",
       "  <thead>\n",
       "    <tr style=\"text-align: right;\">\n",
       "      <th></th>\n",
       "      <th>Similarity</th>\n",
       "      <th>Path</th>\n",
       "      <th>Line</th>\n",
       "      <th>Sub_query</th>\n",
       "    </tr>\n",
       "  </thead>\n",
       "  <tbody>\n",
       "    <tr>\n",
       "      <th>0</th>\n",
       "      <td>0.599612</td>\n",
       "      <td>../papers/[9] ahmed.pdf</td>\n",
       "      <td>their impact on public trust in science and re...</td>\n",
       "      <td>The legitimacy of any academic system is based...</td>\n",
       "    </tr>\n",
       "    <tr>\n",
       "      <th>1</th>\n",
       "      <td>0.590128</td>\n",
       "      <td>../papers/[4] hocane.pdf</td>\n",
       "      <td>Scientific integrity</td>\n",
       "      <td>The legitimacy of any academic system is based...</td>\n",
       "    </tr>\n",
       "    <tr>\n",
       "      <th>2</th>\n",
       "      <td>0.631804</td>\n",
       "      <td>../papers/[9] ahmed.pdf</td>\n",
       "      <td>Academic retractions continue to be an issue</td>\n",
       "      <td>The\\ngrowing tendency of research retractions ...</td>\n",
       "    </tr>\n",
       "    <tr>\n",
       "      <th>3</th>\n",
       "      <td>0.608910</td>\n",
       "      <td>../papers/[7] tams.pdf</td>\n",
       "      <td>Analysis of retractions puts spotlight on acad...</td>\n",
       "      <td>The\\ngrowing tendency of research retractions ...</td>\n",
       "    </tr>\n",
       "  </tbody>\n",
       "</table>\n",
       "</div>"
      ],
      "text/plain": [
       "   Similarity                      Path  \\\n",
       "0    0.599612   ../papers/[9] ahmed.pdf   \n",
       "1    0.590128  ../papers/[4] hocane.pdf   \n",
       "2    0.631804   ../papers/[9] ahmed.pdf   \n",
       "3    0.608910    ../papers/[7] tams.pdf   \n",
       "\n",
       "                                                Line  \\\n",
       "0  their impact on public trust in science and re...   \n",
       "1                               Scientific integrity   \n",
       "2       Academic retractions continue to be an issue   \n",
       "3  Analysis of retractions puts spotlight on acad...   \n",
       "\n",
       "                                           Sub_query  \n",
       "0  The legitimacy of any academic system is based...  \n",
       "1  The legitimacy of any academic system is based...  \n",
       "2  The\\ngrowing tendency of research retractions ...  \n",
       "3  The\\ngrowing tendency of research retractions ...  "
      ]
     },
     "execution_count": 12,
     "metadata": {},
     "output_type": "execute_result"
    }
   ],
   "source": [
    "## Significance of Research\n",
    "\n",
    "query = '''The legitimacy of any academic system is based on the integrity of its research,\n",
    "which influences everything from public policy to technological innovation. The\n",
    "growing tendency of research retractions and decline in Pakistan endangers the\n",
    "foundation of the academic endeavor, potentially impacting researchers, stu\u0002dents, and institutions.'''\n",
    "\n",
    "find_citation(query ,file_data, top_k=2)"
   ]
  },
  {
   "cell_type": "code",
   "execution_count": null,
   "id": "9ddc511a",
   "metadata": {},
   "outputs": [],
   "source": []
  }
 ],
 "metadata": {
  "kernelspec": {
   "display_name": "Python 3 (ipykernel)",
   "language": "python",
   "name": "python3"
  },
  "language_info": {
   "codemirror_mode": {
    "name": "ipython",
    "version": 3
   },
   "file_extension": ".py",
   "mimetype": "text/x-python",
   "name": "python",
   "nbconvert_exporter": "python",
   "pygments_lexer": "ipython3",
   "version": "3.11.5"
  }
 },
 "nbformat": 4,
 "nbformat_minor": 5
}
